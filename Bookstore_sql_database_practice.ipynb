{
  "nbformat": 4,
  "nbformat_minor": 0,
  "metadata": {
    "colab": {
      "provenance": []
    },
    "kernelspec": {
      "name": "python3",
      "display_name": "Python 3"
    },
    "language_info": {
      "name": "python"
    }
  },
  "cells": [
    {
      "cell_type": "code",
      "execution_count": 1,
      "metadata": {
        "colab": {
          "base_uri": "https://localhost:8080/"
        },
        "id": "MKwjfItrtJwL",
        "outputId": "86403052-3357-47d0-8ca6-667d00c1ec64"
      },
      "outputs": [
        {
          "output_type": "stream",
          "name": "stdout",
          "text": [
            "Requirement already satisfied: ipython-sql in /usr/local/lib/python3.10/dist-packages (0.5.0)\n",
            "Requirement already satisfied: sqlalchemy in /usr/local/lib/python3.10/dist-packages (2.0.29)\n",
            "Requirement already satisfied: pandas in /usr/local/lib/python3.10/dist-packages (2.0.3)\n",
            "Requirement already satisfied: matplotlib in /usr/local/lib/python3.10/dist-packages (3.7.1)\n",
            "Requirement already satisfied: seaborn in /usr/local/lib/python3.10/dist-packages (0.13.1)\n",
            "Requirement already satisfied: prettytable in /usr/local/lib/python3.10/dist-packages (from ipython-sql) (3.10.0)\n",
            "Requirement already satisfied: ipython in /usr/local/lib/python3.10/dist-packages (from ipython-sql) (7.34.0)\n",
            "Requirement already satisfied: sqlparse in /usr/local/lib/python3.10/dist-packages (from ipython-sql) (0.5.0)\n",
            "Requirement already satisfied: six in /usr/local/lib/python3.10/dist-packages (from ipython-sql) (1.16.0)\n",
            "Requirement already satisfied: ipython-genutils in /usr/local/lib/python3.10/dist-packages (from ipython-sql) (0.2.0)\n",
            "Requirement already satisfied: typing-extensions>=4.6.0 in /usr/local/lib/python3.10/dist-packages (from sqlalchemy) (4.11.0)\n",
            "Requirement already satisfied: greenlet!=0.4.17 in /usr/local/lib/python3.10/dist-packages (from sqlalchemy) (3.0.3)\n",
            "Requirement already satisfied: python-dateutil>=2.8.2 in /usr/local/lib/python3.10/dist-packages (from pandas) (2.8.2)\n",
            "Requirement already satisfied: pytz>=2020.1 in /usr/local/lib/python3.10/dist-packages (from pandas) (2023.4)\n",
            "Requirement already satisfied: tzdata>=2022.1 in /usr/local/lib/python3.10/dist-packages (from pandas) (2024.1)\n",
            "Requirement already satisfied: numpy>=1.21.0 in /usr/local/lib/python3.10/dist-packages (from pandas) (1.25.2)\n",
            "Requirement already satisfied: contourpy>=1.0.1 in /usr/local/lib/python3.10/dist-packages (from matplotlib) (1.2.1)\n",
            "Requirement already satisfied: cycler>=0.10 in /usr/local/lib/python3.10/dist-packages (from matplotlib) (0.12.1)\n",
            "Requirement already satisfied: fonttools>=4.22.0 in /usr/local/lib/python3.10/dist-packages (from matplotlib) (4.51.0)\n",
            "Requirement already satisfied: kiwisolver>=1.0.1 in /usr/local/lib/python3.10/dist-packages (from matplotlib) (1.4.5)\n",
            "Requirement already satisfied: packaging>=20.0 in /usr/local/lib/python3.10/dist-packages (from matplotlib) (24.0)\n",
            "Requirement already satisfied: pillow>=6.2.0 in /usr/local/lib/python3.10/dist-packages (from matplotlib) (9.4.0)\n",
            "Requirement already satisfied: pyparsing>=2.3.1 in /usr/local/lib/python3.10/dist-packages (from matplotlib) (3.1.2)\n",
            "Requirement already satisfied: setuptools>=18.5 in /usr/local/lib/python3.10/dist-packages (from ipython->ipython-sql) (67.7.2)\n",
            "Collecting jedi>=0.16 (from ipython->ipython-sql)\n",
            "  Downloading jedi-0.19.1-py2.py3-none-any.whl (1.6 MB)\n",
            "\u001b[2K     \u001b[90m━━━━━━━━━━━━━━━━━━━━━━━━━━━━━━━━━━━━━━━━\u001b[0m \u001b[32m1.6/1.6 MB\u001b[0m \u001b[31m7.7 MB/s\u001b[0m eta \u001b[36m0:00:00\u001b[0m\n",
            "\u001b[?25hRequirement already satisfied: decorator in /usr/local/lib/python3.10/dist-packages (from ipython->ipython-sql) (4.4.2)\n",
            "Requirement already satisfied: pickleshare in /usr/local/lib/python3.10/dist-packages (from ipython->ipython-sql) (0.7.5)\n",
            "Requirement already satisfied: traitlets>=4.2 in /usr/local/lib/python3.10/dist-packages (from ipython->ipython-sql) (5.7.1)\n",
            "Requirement already satisfied: prompt-toolkit!=3.0.0,!=3.0.1,<3.1.0,>=2.0.0 in /usr/local/lib/python3.10/dist-packages (from ipython->ipython-sql) (3.0.43)\n",
            "Requirement already satisfied: pygments in /usr/local/lib/python3.10/dist-packages (from ipython->ipython-sql) (2.16.1)\n",
            "Requirement already satisfied: backcall in /usr/local/lib/python3.10/dist-packages (from ipython->ipython-sql) (0.2.0)\n",
            "Requirement already satisfied: matplotlib-inline in /usr/local/lib/python3.10/dist-packages (from ipython->ipython-sql) (0.1.7)\n",
            "Requirement already satisfied: pexpect>4.3 in /usr/local/lib/python3.10/dist-packages (from ipython->ipython-sql) (4.9.0)\n",
            "Requirement already satisfied: wcwidth in /usr/local/lib/python3.10/dist-packages (from prettytable->ipython-sql) (0.2.13)\n",
            "Requirement already satisfied: parso<0.9.0,>=0.8.3 in /usr/local/lib/python3.10/dist-packages (from jedi>=0.16->ipython->ipython-sql) (0.8.4)\n",
            "Requirement already satisfied: ptyprocess>=0.5 in /usr/local/lib/python3.10/dist-packages (from pexpect>4.3->ipython->ipython-sql) (0.7.0)\n",
            "Installing collected packages: jedi\n",
            "Successfully installed jedi-0.19.1\n"
          ]
        }
      ],
      "source": [
        "!pip install ipython-sql sqlalchemy"
      ]
    },
    {
      "cell_type": "code",
      "source": [
        "%load_ext sql\n",
        "%sql sqlite:///bookstore.db"
      ],
      "metadata": {
        "colab": {
          "base_uri": "https://localhost:8080/"
        },
        "id": "aQ39tA84tKuU",
        "outputId": "3707f569-21ef-42b5-aaff-5d07ddc8eab1"
      },
      "execution_count": 5,
      "outputs": [
        {
          "output_type": "stream",
          "name": "stdout",
          "text": [
            "The sql extension is already loaded. To reload it, use:\n",
            "  %reload_ext sql\n"
          ]
        }
      ]
    },
    {
      "cell_type": "markdown",
      "source": [
        "**Remove Tables**"
      ],
      "metadata": {
        "id": "k7vEtw5Iy3Gb"
      }
    },
    {
      "cell_type": "code",
      "source": [
        "%%sql\n",
        "\n",
        "DROP TABLE Books;\n",
        "DROP TABLE Customers;\n",
        "DROP TABLE Orders;\n",
        "DROP TABLE Suppliers;\n",
        "DROP TABLE SupplyOrders;\n",
        "DROP TABLE BookReviews;\n"
      ],
      "metadata": {
        "colab": {
          "base_uri": "https://localhost:8080/"
        },
        "id": "SLfGwvXpux_m",
        "outputId": "015b235c-ad14-4991-bb7e-5fe03cad222f"
      },
      "execution_count": 8,
      "outputs": [
        {
          "output_type": "stream",
          "name": "stdout",
          "text": [
            " * sqlite:///bookstore.db\n",
            "Done.\n",
            "Done.\n",
            "Done.\n",
            "Done.\n",
            "Done.\n",
            "Done.\n"
          ]
        },
        {
          "output_type": "execute_result",
          "data": {
            "text/plain": [
              "[]"
            ]
          },
          "metadata": {},
          "execution_count": 8
        }
      ]
    },
    {
      "cell_type": "markdown",
      "source": [
        "**Create Tables**"
      ],
      "metadata": {
        "id": "8MURUXm8y0uJ"
      }
    },
    {
      "cell_type": "code",
      "source": [
        "%%sql\n",
        "\n",
        "-- Books table\n",
        "CREATE TABLE Books (\n",
        "    BookID INTEGER PRIMARY KEY,\n",
        "    Title TEXT NOT NULL,\n",
        "    Author TEXT NOT NULL,\n",
        "    Genre TEXT,\n",
        "    Price REAL,\n",
        "    Stock INTEGER\n",
        ");\n",
        "\n",
        "-- Customers table\n",
        "CREATE TABLE Customers (\n",
        "    CustomerID INTEGER PRIMARY KEY,\n",
        "    Name TEXT NOT NULL,\n",
        "    Email TEXT,\n",
        "    Address TEXT\n",
        ");\n",
        "\n",
        "-- Orders table\n",
        "CREATE TABLE Orders (\n",
        "    OrderID INTEGER PRIMARY KEY,\n",
        "    CustomerID INTEGER,\n",
        "    BookID INTEGER,\n",
        "    Quantity INTEGER,\n",
        "    OrderDate DATE,\n",
        "    FOREIGN KEY (CustomerID) REFERENCES Customers(CustomerID),\n",
        "    FOREIGN KEY (BookID) REFERENCES Books(BookID)\n",
        ");\n",
        "\n",
        "-- Suppliers table\n",
        "CREATE TABLE Suppliers (\n",
        "    SupplierID INTEGER PRIMARY KEY,\n",
        "    Name TEXT NOT NULL,\n",
        "    ContactInfo TEXT\n",
        ");\n",
        "\n",
        "-- Supply Orders table\n",
        "CREATE TABLE SupplyOrders (\n",
        "    SupplyOrderID INTEGER PRIMARY KEY,\n",
        "    SupplierID INTEGER,\n",
        "    BookID INTEGER,\n",
        "    Quantity INTEGER,\n",
        "    OrderDate DATE,\n",
        "    FOREIGN KEY (SupplierID) REFERENCES Suppliers(SupplierID),\n",
        "    FOREIGN KEY (BookID) REFERENCES Books(BookID)\n",
        ");\n",
        "\n",
        "-- Book Reviews table\n",
        "CREATE TABLE BookReviews (\n",
        "    ReviewID INTEGER PRIMARY KEY AUTOINCREMENT,\n",
        "    BookID INTEGER,\n",
        "    CustomerID INTEGER,\n",
        "    Rating INTEGER,\n",
        "    ReviewText TEXT,\n",
        "    ReviewDate DATE,\n",
        "    FOREIGN KEY (BookID) REFERENCES Books(BookID),\n",
        "    FOREIGN KEY (CustomerID) REFERENCES Customers(CustomerID)\n",
        ");\n"
      ],
      "metadata": {
        "colab": {
          "base_uri": "https://localhost:8080/"
        },
        "id": "zEzt7jdCtP6k",
        "outputId": "a4859480-a086-4fcd-fe4d-0ab55d68027c"
      },
      "execution_count": 9,
      "outputs": [
        {
          "output_type": "stream",
          "name": "stdout",
          "text": [
            " * sqlite:///bookstore.db\n",
            "Done.\n",
            "Done.\n",
            "Done.\n",
            "Done.\n",
            "Done.\n",
            "Done.\n"
          ]
        },
        {
          "output_type": "execute_result",
          "data": {
            "text/plain": [
              "[]"
            ]
          },
          "metadata": {},
          "execution_count": 9
        }
      ]
    },
    {
      "cell_type": "markdown",
      "source": [
        "**Delete All Data in the Tables**"
      ],
      "metadata": {
        "id": "ICoKc8VZyvh6"
      }
    },
    {
      "cell_type": "code",
      "source": [
        "%%sql\n",
        "DELETE FROM Books;\n",
        "DELETE FROM Customers;\n",
        "DELETE FROM Orders;\n",
        "DELETE FROM Suppliers;\n",
        "DELETE FROM SupplyOrders;\n",
        "DELETE FROM BookReviews;"
      ],
      "metadata": {
        "colab": {
          "base_uri": "https://localhost:8080/"
        },
        "id": "z9BpO_ctxnN4",
        "outputId": "1a9a5b01-592e-41bb-c517-eed5eba1ebfb"
      },
      "execution_count": 30,
      "outputs": [
        {
          "output_type": "stream",
          "name": "stdout",
          "text": [
            " * sqlite:///bookstore.db\n",
            "10 rows affected.\n",
            "10 rows affected.\n",
            "10 rows affected.\n",
            "10 rows affected.\n",
            "10 rows affected.\n",
            "10 rows affected.\n"
          ]
        },
        {
          "output_type": "execute_result",
          "data": {
            "text/plain": [
              "[]"
            ]
          },
          "metadata": {},
          "execution_count": 30
        }
      ]
    },
    {
      "cell_type": "markdown",
      "source": [
        "**Insert Data into the Table**"
      ],
      "metadata": {
        "id": "0fSknj89yWmo"
      }
    },
    {
      "cell_type": "code",
      "source": [
        "%%sql\n",
        "\n",
        "INSERT INTO Books (Title, Author, Genre, Price, Stock) VALUES\n",
        "('Book Title A', 'Author A', 'Genre A', 1.00, 1),\n",
        "('Book Title B', 'Author B', 'Genre B', 2.00, 2),\n",
        "('Book Title C', 'Author C', 'Genre C', 3.00, 3),\n",
        "('Book Title D', 'Author D', 'Genre D', 4.00, 4),\n",
        "('Book Title E', 'Author E', 'Genre E', 5.00, 5);\n",
        "\n",
        "INSERT INTO Customers (Name, Email, Address) VALUES\n",
        "('Customer A', 'emailA@example.com', 'Address A'),\n",
        "('Customer B', 'emailB@example.com', 'Address B'),\n",
        "('Customer C', 'emailC@example.com', 'Address C'),\n",
        "('Customer D', 'emailD@example.com', 'Address D'),\n",
        "('Customer E', 'emailE@example.com', 'Address E');\n",
        "\n",
        "INSERT INTO Orders (CustomerID, BookID, Quantity, OrderDate) VALUES\n",
        "(1, 1, 1, '2024-01-01'),\n",
        "(2, 2, 2, '2024-01-02'),\n",
        "(3, 3, 3, '2024-01-03'),\n",
        "(4, 4, 4, '2024-01-04'),\n",
        "(5, 5, 5, '2024-01-05');\n",
        "\n",
        "INSERT INTO Suppliers (Name, ContactInfo) VALUES\n",
        "('Supplier A', 'Contact A'),\n",
        "('Supplier B', 'Contact B'),\n",
        "('Supplier C', 'Contact C'),\n",
        "('Supplier D', 'Contact D'),\n",
        "('Supplier E', 'Contact E');\n",
        "\n",
        "INSERT INTO SupplyOrders (SupplierID, BookID, Quantity, OrderDate) VALUES\n",
        "(1, 1, 10, '2024-01-10'),\n",
        "(2, 2, 20, '2024-01-20'),\n",
        "(3, 3, 30, '2024-01-30'),\n",
        "(4, 4, 40, '2024-02-10'),\n",
        "(5, 5, 50, '2024-02-20');\n",
        "\n",
        "INSERT INTO BookReviews (BookID, CustomerID, Rating, ReviewText, ReviewDate) VALUES\n",
        "(1, 1, 5, 'Excellent!', '2024-04-01'),\n",
        "(2, 2, 4, 'Good.', '2024-04-02'),\n",
        "(3, 3, 3, 'Not bad.', '2024-04-03'),\n",
        "(4, 4, 2, 'Below average.', '2024-04-04'),\n",
        "(5, 5, 1, 'Bad.', '2024-04-05');\n"
      ],
      "metadata": {
        "colab": {
          "base_uri": "https://localhost:8080/"
        },
        "id": "icgI5oArtli6",
        "outputId": "9e795508-7720-4f17-9f5d-2c6838c42888"
      },
      "execution_count": 31,
      "outputs": [
        {
          "output_type": "stream",
          "name": "stdout",
          "text": [
            " * sqlite:///bookstore.db\n",
            "5 rows affected.\n",
            "5 rows affected.\n",
            "5 rows affected.\n",
            "5 rows affected.\n",
            "5 rows affected.\n",
            "5 rows affected.\n"
          ]
        },
        {
          "output_type": "execute_result",
          "data": {
            "text/plain": [
              "[]"
            ]
          },
          "metadata": {},
          "execution_count": 31
        }
      ]
    },
    {
      "cell_type": "markdown",
      "source": [
        "**Check if the Data is inserted correctly**"
      ],
      "metadata": {
        "id": "w6a3sHYiyhle"
      }
    },
    {
      "cell_type": "code",
      "source": [
        "%%sql\n",
        "SELECT * FROM Books;"
      ],
      "metadata": {
        "colab": {
          "base_uri": "https://localhost:8080/",
          "height": 269
        },
        "id": "CSH8NVElw30T",
        "outputId": "b65ed549-46fe-472a-ddb0-42032a54de40"
      },
      "execution_count": 32,
      "outputs": [
        {
          "output_type": "stream",
          "name": "stdout",
          "text": [
            " * sqlite:///bookstore.db\n",
            "Done.\n",
            "Done.\n",
            "Done.\n",
            "Done.\n",
            "Done.\n",
            "Done.\n"
          ]
        },
        {
          "output_type": "execute_result",
          "data": {
            "text/plain": [
              "[(11, 1, 1, 5, 'Excellent!', '2024-04-01'),\n",
              " (12, 2, 2, 4, 'Good.', '2024-04-02'),\n",
              " (13, 3, 3, 3, 'Not bad.', '2024-04-03'),\n",
              " (14, 4, 4, 2, 'Below average.', '2024-04-04'),\n",
              " (15, 5, 5, 1, 'Bad.', '2024-04-05')]"
            ],
            "text/html": [
              "<table>\n",
              "    <thead>\n",
              "        <tr>\n",
              "            <th>ReviewID</th>\n",
              "            <th>BookID</th>\n",
              "            <th>CustomerID</th>\n",
              "            <th>Rating</th>\n",
              "            <th>ReviewText</th>\n",
              "            <th>ReviewDate</th>\n",
              "        </tr>\n",
              "    </thead>\n",
              "    <tbody>\n",
              "        <tr>\n",
              "            <td>11</td>\n",
              "            <td>1</td>\n",
              "            <td>1</td>\n",
              "            <td>5</td>\n",
              "            <td>Excellent!</td>\n",
              "            <td>2024-04-01</td>\n",
              "        </tr>\n",
              "        <tr>\n",
              "            <td>12</td>\n",
              "            <td>2</td>\n",
              "            <td>2</td>\n",
              "            <td>4</td>\n",
              "            <td>Good.</td>\n",
              "            <td>2024-04-02</td>\n",
              "        </tr>\n",
              "        <tr>\n",
              "            <td>13</td>\n",
              "            <td>3</td>\n",
              "            <td>3</td>\n",
              "            <td>3</td>\n",
              "            <td>Not bad.</td>\n",
              "            <td>2024-04-03</td>\n",
              "        </tr>\n",
              "        <tr>\n",
              "            <td>14</td>\n",
              "            <td>4</td>\n",
              "            <td>4</td>\n",
              "            <td>2</td>\n",
              "            <td>Below average.</td>\n",
              "            <td>2024-04-04</td>\n",
              "        </tr>\n",
              "        <tr>\n",
              "            <td>15</td>\n",
              "            <td>5</td>\n",
              "            <td>5</td>\n",
              "            <td>1</td>\n",
              "            <td>Bad.</td>\n",
              "            <td>2024-04-05</td>\n",
              "        </tr>\n",
              "    </tbody>\n",
              "</table>"
            ]
          },
          "metadata": {},
          "execution_count": 32
        }
      ]
    },
    {
      "cell_type": "code",
      "source": [
        "%%sql\n",
        "SELECT * FROM Customers;"
      ],
      "metadata": {
        "colab": {
          "base_uri": "https://localhost:8080/",
          "height": 182
        },
        "id": "9TPfLDU6wqoZ",
        "outputId": "b35f8382-acaf-477b-e9ea-b1d2056dd4ee"
      },
      "execution_count": 33,
      "outputs": [
        {
          "output_type": "stream",
          "name": "stdout",
          "text": [
            " * sqlite:///bookstore.db\n",
            "Done.\n"
          ]
        },
        {
          "output_type": "execute_result",
          "data": {
            "text/plain": [
              "[(1, 'Customer A', 'emailA@example.com', 'Address A'),\n",
              " (2, 'Customer B', 'emailB@example.com', 'Address B'),\n",
              " (3, 'Customer C', 'emailC@example.com', 'Address C'),\n",
              " (4, 'Customer D', 'emailD@example.com', 'Address D'),\n",
              " (5, 'Customer E', 'emailE@example.com', 'Address E')]"
            ],
            "text/html": [
              "<table>\n",
              "    <thead>\n",
              "        <tr>\n",
              "            <th>CustomerID</th>\n",
              "            <th>Name</th>\n",
              "            <th>Email</th>\n",
              "            <th>Address</th>\n",
              "        </tr>\n",
              "    </thead>\n",
              "    <tbody>\n",
              "        <tr>\n",
              "            <td>1</td>\n",
              "            <td>Customer A</td>\n",
              "            <td>emailA@example.com</td>\n",
              "            <td>Address A</td>\n",
              "        </tr>\n",
              "        <tr>\n",
              "            <td>2</td>\n",
              "            <td>Customer B</td>\n",
              "            <td>emailB@example.com</td>\n",
              "            <td>Address B</td>\n",
              "        </tr>\n",
              "        <tr>\n",
              "            <td>3</td>\n",
              "            <td>Customer C</td>\n",
              "            <td>emailC@example.com</td>\n",
              "            <td>Address C</td>\n",
              "        </tr>\n",
              "        <tr>\n",
              "            <td>4</td>\n",
              "            <td>Customer D</td>\n",
              "            <td>emailD@example.com</td>\n",
              "            <td>Address D</td>\n",
              "        </tr>\n",
              "        <tr>\n",
              "            <td>5</td>\n",
              "            <td>Customer E</td>\n",
              "            <td>emailE@example.com</td>\n",
              "            <td>Address E</td>\n",
              "        </tr>\n",
              "    </tbody>\n",
              "</table>"
            ]
          },
          "metadata": {},
          "execution_count": 33
        }
      ]
    },
    {
      "cell_type": "code",
      "source": [
        "%%sql\n",
        "SELECT * FROM Orders;"
      ],
      "metadata": {
        "colab": {
          "base_uri": "https://localhost:8080/",
          "height": 182
        },
        "id": "UNmh-bybxGM1",
        "outputId": "a2da2b73-d2bc-46b8-ba5d-291a9d98b7c8"
      },
      "execution_count": 34,
      "outputs": [
        {
          "output_type": "stream",
          "name": "stdout",
          "text": [
            " * sqlite:///bookstore.db\n",
            "Done.\n"
          ]
        },
        {
          "output_type": "execute_result",
          "data": {
            "text/plain": [
              "[(1, 1, 1, 1, '2024-01-01'),\n",
              " (2, 2, 2, 2, '2024-01-02'),\n",
              " (3, 3, 3, 3, '2024-01-03'),\n",
              " (4, 4, 4, 4, '2024-01-04'),\n",
              " (5, 5, 5, 5, '2024-01-05')]"
            ],
            "text/html": [
              "<table>\n",
              "    <thead>\n",
              "        <tr>\n",
              "            <th>OrderID</th>\n",
              "            <th>CustomerID</th>\n",
              "            <th>BookID</th>\n",
              "            <th>Quantity</th>\n",
              "            <th>OrderDate</th>\n",
              "        </tr>\n",
              "    </thead>\n",
              "    <tbody>\n",
              "        <tr>\n",
              "            <td>1</td>\n",
              "            <td>1</td>\n",
              "            <td>1</td>\n",
              "            <td>1</td>\n",
              "            <td>2024-01-01</td>\n",
              "        </tr>\n",
              "        <tr>\n",
              "            <td>2</td>\n",
              "            <td>2</td>\n",
              "            <td>2</td>\n",
              "            <td>2</td>\n",
              "            <td>2024-01-02</td>\n",
              "        </tr>\n",
              "        <tr>\n",
              "            <td>3</td>\n",
              "            <td>3</td>\n",
              "            <td>3</td>\n",
              "            <td>3</td>\n",
              "            <td>2024-01-03</td>\n",
              "        </tr>\n",
              "        <tr>\n",
              "            <td>4</td>\n",
              "            <td>4</td>\n",
              "            <td>4</td>\n",
              "            <td>4</td>\n",
              "            <td>2024-01-04</td>\n",
              "        </tr>\n",
              "        <tr>\n",
              "            <td>5</td>\n",
              "            <td>5</td>\n",
              "            <td>5</td>\n",
              "            <td>5</td>\n",
              "            <td>2024-01-05</td>\n",
              "        </tr>\n",
              "    </tbody>\n",
              "</table>"
            ]
          },
          "metadata": {},
          "execution_count": 34
        }
      ]
    },
    {
      "cell_type": "code",
      "source": [
        "%%sql\n",
        "SELECT * FROM Suppliers;"
      ],
      "metadata": {
        "colab": {
          "base_uri": "https://localhost:8080/",
          "height": 182
        },
        "id": "xNmpqW_7xKZy",
        "outputId": "72d26a48-7f12-4a05-af55-c91e746b1d3f"
      },
      "execution_count": 35,
      "outputs": [
        {
          "output_type": "stream",
          "name": "stdout",
          "text": [
            " * sqlite:///bookstore.db\n",
            "Done.\n"
          ]
        },
        {
          "output_type": "execute_result",
          "data": {
            "text/plain": [
              "[(1, 'Supplier A', 'Contact A'),\n",
              " (2, 'Supplier B', 'Contact B'),\n",
              " (3, 'Supplier C', 'Contact C'),\n",
              " (4, 'Supplier D', 'Contact D'),\n",
              " (5, 'Supplier E', 'Contact E')]"
            ],
            "text/html": [
              "<table>\n",
              "    <thead>\n",
              "        <tr>\n",
              "            <th>SupplierID</th>\n",
              "            <th>Name</th>\n",
              "            <th>ContactInfo</th>\n",
              "        </tr>\n",
              "    </thead>\n",
              "    <tbody>\n",
              "        <tr>\n",
              "            <td>1</td>\n",
              "            <td>Supplier A</td>\n",
              "            <td>Contact A</td>\n",
              "        </tr>\n",
              "        <tr>\n",
              "            <td>2</td>\n",
              "            <td>Supplier B</td>\n",
              "            <td>Contact B</td>\n",
              "        </tr>\n",
              "        <tr>\n",
              "            <td>3</td>\n",
              "            <td>Supplier C</td>\n",
              "            <td>Contact C</td>\n",
              "        </tr>\n",
              "        <tr>\n",
              "            <td>4</td>\n",
              "            <td>Supplier D</td>\n",
              "            <td>Contact D</td>\n",
              "        </tr>\n",
              "        <tr>\n",
              "            <td>5</td>\n",
              "            <td>Supplier E</td>\n",
              "            <td>Contact E</td>\n",
              "        </tr>\n",
              "    </tbody>\n",
              "</table>"
            ]
          },
          "metadata": {},
          "execution_count": 35
        }
      ]
    },
    {
      "cell_type": "code",
      "source": [
        "%%sql\n",
        "SELECT * FROM SupplyOrders;"
      ],
      "metadata": {
        "colab": {
          "base_uri": "https://localhost:8080/",
          "height": 182
        },
        "id": "IvxrSr8mxL8W",
        "outputId": "9fd6a809-cb02-4db4-cd73-d4d9b5fe7dd2"
      },
      "execution_count": 36,
      "outputs": [
        {
          "output_type": "stream",
          "name": "stdout",
          "text": [
            " * sqlite:///bookstore.db\n",
            "Done.\n"
          ]
        },
        {
          "output_type": "execute_result",
          "data": {
            "text/plain": [
              "[(1, 1, 1, 10, '2024-01-10'),\n",
              " (2, 2, 2, 20, '2024-01-20'),\n",
              " (3, 3, 3, 30, '2024-01-30'),\n",
              " (4, 4, 4, 40, '2024-02-10'),\n",
              " (5, 5, 5, 50, '2024-02-20')]"
            ],
            "text/html": [
              "<table>\n",
              "    <thead>\n",
              "        <tr>\n",
              "            <th>SupplyOrderID</th>\n",
              "            <th>SupplierID</th>\n",
              "            <th>BookID</th>\n",
              "            <th>Quantity</th>\n",
              "            <th>OrderDate</th>\n",
              "        </tr>\n",
              "    </thead>\n",
              "    <tbody>\n",
              "        <tr>\n",
              "            <td>1</td>\n",
              "            <td>1</td>\n",
              "            <td>1</td>\n",
              "            <td>10</td>\n",
              "            <td>2024-01-10</td>\n",
              "        </tr>\n",
              "        <tr>\n",
              "            <td>2</td>\n",
              "            <td>2</td>\n",
              "            <td>2</td>\n",
              "            <td>20</td>\n",
              "            <td>2024-01-20</td>\n",
              "        </tr>\n",
              "        <tr>\n",
              "            <td>3</td>\n",
              "            <td>3</td>\n",
              "            <td>3</td>\n",
              "            <td>30</td>\n",
              "            <td>2024-01-30</td>\n",
              "        </tr>\n",
              "        <tr>\n",
              "            <td>4</td>\n",
              "            <td>4</td>\n",
              "            <td>4</td>\n",
              "            <td>40</td>\n",
              "            <td>2024-02-10</td>\n",
              "        </tr>\n",
              "        <tr>\n",
              "            <td>5</td>\n",
              "            <td>5</td>\n",
              "            <td>5</td>\n",
              "            <td>50</td>\n",
              "            <td>2024-02-20</td>\n",
              "        </tr>\n",
              "    </tbody>\n",
              "</table>"
            ]
          },
          "metadata": {},
          "execution_count": 36
        }
      ]
    },
    {
      "cell_type": "code",
      "source": [
        "%%sql\n",
        "SELECT * FROM BookReviews;"
      ],
      "metadata": {
        "colab": {
          "base_uri": "https://localhost:8080/",
          "height": 182
        },
        "id": "QRFCTaycxNJw",
        "outputId": "cb22847d-fa3e-4e22-a3ea-060de5f489d4"
      },
      "execution_count": 37,
      "outputs": [
        {
          "output_type": "stream",
          "name": "stdout",
          "text": [
            " * sqlite:///bookstore.db\n",
            "Done.\n"
          ]
        },
        {
          "output_type": "execute_result",
          "data": {
            "text/plain": [
              "[(11, 1, 1, 5, 'Excellent!', '2024-04-01'),\n",
              " (12, 2, 2, 4, 'Good.', '2024-04-02'),\n",
              " (13, 3, 3, 3, 'Not bad.', '2024-04-03'),\n",
              " (14, 4, 4, 2, 'Below average.', '2024-04-04'),\n",
              " (15, 5, 5, 1, 'Bad.', '2024-04-05')]"
            ],
            "text/html": [
              "<table>\n",
              "    <thead>\n",
              "        <tr>\n",
              "            <th>ReviewID</th>\n",
              "            <th>BookID</th>\n",
              "            <th>CustomerID</th>\n",
              "            <th>Rating</th>\n",
              "            <th>ReviewText</th>\n",
              "            <th>ReviewDate</th>\n",
              "        </tr>\n",
              "    </thead>\n",
              "    <tbody>\n",
              "        <tr>\n",
              "            <td>11</td>\n",
              "            <td>1</td>\n",
              "            <td>1</td>\n",
              "            <td>5</td>\n",
              "            <td>Excellent!</td>\n",
              "            <td>2024-04-01</td>\n",
              "        </tr>\n",
              "        <tr>\n",
              "            <td>12</td>\n",
              "            <td>2</td>\n",
              "            <td>2</td>\n",
              "            <td>4</td>\n",
              "            <td>Good.</td>\n",
              "            <td>2024-04-02</td>\n",
              "        </tr>\n",
              "        <tr>\n",
              "            <td>13</td>\n",
              "            <td>3</td>\n",
              "            <td>3</td>\n",
              "            <td>3</td>\n",
              "            <td>Not bad.</td>\n",
              "            <td>2024-04-03</td>\n",
              "        </tr>\n",
              "        <tr>\n",
              "            <td>14</td>\n",
              "            <td>4</td>\n",
              "            <td>4</td>\n",
              "            <td>2</td>\n",
              "            <td>Below average.</td>\n",
              "            <td>2024-04-04</td>\n",
              "        </tr>\n",
              "        <tr>\n",
              "            <td>15</td>\n",
              "            <td>5</td>\n",
              "            <td>5</td>\n",
              "            <td>1</td>\n",
              "            <td>Bad.</td>\n",
              "            <td>2024-04-05</td>\n",
              "        </tr>\n",
              "    </tbody>\n",
              "</table>"
            ]
          },
          "metadata": {},
          "execution_count": 37
        }
      ]
    },
    {
      "cell_type": "markdown",
      "source": [
        "**Practice Data Retrieve, Join, and Data Relationships**"
      ],
      "metadata": {
        "id": "l3GUZaMeyHkQ"
      }
    },
    {
      "cell_type": "code",
      "source": [
        "%%sql\n",
        "-- Select all books that are less than price 4\n",
        "SELECT * FROM Books WHERE Price < 4.00;"
      ],
      "metadata": {
        "colab": {
          "base_uri": "https://localhost:8080/",
          "height": 139
        },
        "id": "iYfmt4ihxRb_",
        "outputId": "e8c78e1e-bf46-4603-af7a-2699837d784a"
      },
      "execution_count": 39,
      "outputs": [
        {
          "output_type": "stream",
          "name": "stdout",
          "text": [
            " * sqlite:///bookstore.db\n",
            "Done.\n"
          ]
        },
        {
          "output_type": "execute_result",
          "data": {
            "text/plain": [
              "[(1, 'Book Title A', 'Author A', 'Genre A', 1.0, 1),\n",
              " (2, 'Book Title B', 'Author B', 'Genre B', 2.0, 2),\n",
              " (3, 'Book Title C', 'Author C', 'Genre C', 3.0, 3)]"
            ],
            "text/html": [
              "<table>\n",
              "    <thead>\n",
              "        <tr>\n",
              "            <th>BookID</th>\n",
              "            <th>Title</th>\n",
              "            <th>Author</th>\n",
              "            <th>Genre</th>\n",
              "            <th>Price</th>\n",
              "            <th>Stock</th>\n",
              "        </tr>\n",
              "    </thead>\n",
              "    <tbody>\n",
              "        <tr>\n",
              "            <td>1</td>\n",
              "            <td>Book Title A</td>\n",
              "            <td>Author A</td>\n",
              "            <td>Genre A</td>\n",
              "            <td>1.0</td>\n",
              "            <td>1</td>\n",
              "        </tr>\n",
              "        <tr>\n",
              "            <td>2</td>\n",
              "            <td>Book Title B</td>\n",
              "            <td>Author B</td>\n",
              "            <td>Genre B</td>\n",
              "            <td>2.0</td>\n",
              "            <td>2</td>\n",
              "        </tr>\n",
              "        <tr>\n",
              "            <td>3</td>\n",
              "            <td>Book Title C</td>\n",
              "            <td>Author C</td>\n",
              "            <td>Genre C</td>\n",
              "            <td>3.0</td>\n",
              "            <td>3</td>\n",
              "        </tr>\n",
              "    </tbody>\n",
              "</table>"
            ]
          },
          "metadata": {},
          "execution_count": 39
        }
      ]
    },
    {
      "cell_type": "code",
      "source": [
        "%%sql\n",
        "-- List all customers that has Address A\n",
        "SELECT * FROM Customers WHERE Address LIKE 'Address A';"
      ],
      "metadata": {
        "colab": {
          "base_uri": "https://localhost:8080/",
          "height": 96
        },
        "id": "xj5ymOe_0A9M",
        "outputId": "ac0e26ed-72a5-4aff-9579-0a969c017f56"
      },
      "execution_count": 40,
      "outputs": [
        {
          "output_type": "stream",
          "name": "stdout",
          "text": [
            " * sqlite:///bookstore.db\n",
            "Done.\n"
          ]
        },
        {
          "output_type": "execute_result",
          "data": {
            "text/plain": [
              "[(1, 'Customer A', 'emailA@example.com', 'Address A')]"
            ],
            "text/html": [
              "<table>\n",
              "    <thead>\n",
              "        <tr>\n",
              "            <th>CustomerID</th>\n",
              "            <th>Name</th>\n",
              "            <th>Email</th>\n",
              "            <th>Address</th>\n",
              "        </tr>\n",
              "    </thead>\n",
              "    <tbody>\n",
              "        <tr>\n",
              "            <td>1</td>\n",
              "            <td>Customer A</td>\n",
              "            <td>emailA@example.com</td>\n",
              "            <td>Address A</td>\n",
              "        </tr>\n",
              "    </tbody>\n",
              "</table>"
            ]
          },
          "metadata": {},
          "execution_count": 40
        }
      ]
    },
    {
      "cell_type": "code",
      "source": [
        "%%sql\n",
        "-- List all orders with book titles and customer names joined\n",
        "SELECT Orders.OrderID, Books.Title, Customers.Name, Orders.Quantity, Orders.OrderDate\n",
        "FROM Orders\n",
        "JOIN Books ON Orders.BookID = Books.BookID\n",
        "JOIN Customers ON Orders.CustomerID = Customers.CustomerID;"
      ],
      "metadata": {
        "colab": {
          "base_uri": "https://localhost:8080/",
          "height": 182
        },
        "id": "T48btFzp0FJM",
        "outputId": "e2d00a2a-dcda-4d88-f36a-592b74346334"
      },
      "execution_count": 41,
      "outputs": [
        {
          "output_type": "stream",
          "name": "stdout",
          "text": [
            " * sqlite:///bookstore.db\n",
            "Done.\n"
          ]
        },
        {
          "output_type": "execute_result",
          "data": {
            "text/plain": [
              "[(1, 'Book Title A', 'Customer A', 1, '2024-01-01'),\n",
              " (2, 'Book Title B', 'Customer B', 2, '2024-01-02'),\n",
              " (3, 'Book Title C', 'Customer C', 3, '2024-01-03'),\n",
              " (4, 'Book Title D', 'Customer D', 4, '2024-01-04'),\n",
              " (5, 'Book Title E', 'Customer E', 5, '2024-01-05')]"
            ],
            "text/html": [
              "<table>\n",
              "    <thead>\n",
              "        <tr>\n",
              "            <th>OrderID</th>\n",
              "            <th>Title</th>\n",
              "            <th>Name</th>\n",
              "            <th>Quantity</th>\n",
              "            <th>OrderDate</th>\n",
              "        </tr>\n",
              "    </thead>\n",
              "    <tbody>\n",
              "        <tr>\n",
              "            <td>1</td>\n",
              "            <td>Book Title A</td>\n",
              "            <td>Customer A</td>\n",
              "            <td>1</td>\n",
              "            <td>2024-01-01</td>\n",
              "        </tr>\n",
              "        <tr>\n",
              "            <td>2</td>\n",
              "            <td>Book Title B</td>\n",
              "            <td>Customer B</td>\n",
              "            <td>2</td>\n",
              "            <td>2024-01-02</td>\n",
              "        </tr>\n",
              "        <tr>\n",
              "            <td>3</td>\n",
              "            <td>Book Title C</td>\n",
              "            <td>Customer C</td>\n",
              "            <td>3</td>\n",
              "            <td>2024-01-03</td>\n",
              "        </tr>\n",
              "        <tr>\n",
              "            <td>4</td>\n",
              "            <td>Book Title D</td>\n",
              "            <td>Customer D</td>\n",
              "            <td>4</td>\n",
              "            <td>2024-01-04</td>\n",
              "        </tr>\n",
              "        <tr>\n",
              "            <td>5</td>\n",
              "            <td>Book Title E</td>\n",
              "            <td>Customer E</td>\n",
              "            <td>5</td>\n",
              "            <td>2024-01-05</td>\n",
              "        </tr>\n",
              "    </tbody>\n",
              "</table>"
            ]
          },
          "metadata": {},
          "execution_count": 41
        }
      ]
    },
    {
      "cell_type": "code",
      "source": [
        "%%sql\n",
        "-- List books with their reviews and customer emails for those who made a review joined\n",
        "SELECT Books.Title, BookReviews.ReviewText, Customers.Email\n",
        "FROM BookReviews\n",
        "JOIN Books ON BookReviews.BookID = Books.BookID\n",
        "JOIN Customers ON BookReviews.CustomerID = Customers.CustomerID;"
      ],
      "metadata": {
        "colab": {
          "base_uri": "https://localhost:8080/",
          "height": 182
        },
        "id": "WQxyZna50qO3",
        "outputId": "49e126e3-6509-44e9-aabb-c63986929c7a"
      },
      "execution_count": 42,
      "outputs": [
        {
          "output_type": "stream",
          "name": "stdout",
          "text": [
            " * sqlite:///bookstore.db\n",
            "Done.\n"
          ]
        },
        {
          "output_type": "execute_result",
          "data": {
            "text/plain": [
              "[('Book Title A', 'Excellent!', 'emailA@example.com'),\n",
              " ('Book Title B', 'Good.', 'emailB@example.com'),\n",
              " ('Book Title C', 'Not bad.', 'emailC@example.com'),\n",
              " ('Book Title D', 'Below average.', 'emailD@example.com'),\n",
              " ('Book Title E', 'Bad.', 'emailE@example.com')]"
            ],
            "text/html": [
              "<table>\n",
              "    <thead>\n",
              "        <tr>\n",
              "            <th>Title</th>\n",
              "            <th>ReviewText</th>\n",
              "            <th>Email</th>\n",
              "        </tr>\n",
              "    </thead>\n",
              "    <tbody>\n",
              "        <tr>\n",
              "            <td>Book Title A</td>\n",
              "            <td>Excellent!</td>\n",
              "            <td>emailA@example.com</td>\n",
              "        </tr>\n",
              "        <tr>\n",
              "            <td>Book Title B</td>\n",
              "            <td>Good.</td>\n",
              "            <td>emailB@example.com</td>\n",
              "        </tr>\n",
              "        <tr>\n",
              "            <td>Book Title C</td>\n",
              "            <td>Not bad.</td>\n",
              "            <td>emailC@example.com</td>\n",
              "        </tr>\n",
              "        <tr>\n",
              "            <td>Book Title D</td>\n",
              "            <td>Below average.</td>\n",
              "            <td>emailD@example.com</td>\n",
              "        </tr>\n",
              "        <tr>\n",
              "            <td>Book Title E</td>\n",
              "            <td>Bad.</td>\n",
              "            <td>emailE@example.com</td>\n",
              "        </tr>\n",
              "    </tbody>\n",
              "</table>"
            ]
          },
          "metadata": {},
          "execution_count": 42
        }
      ]
    },
    {
      "cell_type": "code",
      "source": [
        "%%sql\n",
        "-- Insert few more orders for next aggregation practice\n",
        "INSERT INTO Orders (CustomerID, BookID, Quantity, OrderDate) VALUES\n",
        "(1, 1, 6, '2024-01-01'),\n",
        "(2, 2, 7, '2024-01-02'),\n",
        "(3, 3, 8, '2024-01-03'),\n",
        "(4, 4, 9, '2024-01-04'),\n",
        "(5, 5, 10, '2024-01-05');"
      ],
      "metadata": {
        "colab": {
          "base_uri": "https://localhost:8080/"
        },
        "id": "kBc-zWsx7ts7",
        "outputId": "6d48c7c2-5f38-47d7-f1e6-185064ab8be2"
      },
      "execution_count": 44,
      "outputs": [
        {
          "output_type": "stream",
          "name": "stdout",
          "text": [
            " * sqlite:///bookstore.db\n",
            "5 rows affected.\n"
          ]
        },
        {
          "output_type": "execute_result",
          "data": {
            "text/plain": [
              "[]"
            ]
          },
          "metadata": {},
          "execution_count": 44
        }
      ]
    },
    {
      "cell_type": "code",
      "source": [
        "%%sql\n",
        "-- Calculate total sales for each book -\n",
        "SELECT Books.Title, SUM(Orders.Quantity) AS Total_Sold\n",
        "FROM Orders\n",
        "JOIN Books ON Orders.BookID = Books.BookID\n",
        "GROUP BY Books.BookID;"
      ],
      "metadata": {
        "colab": {
          "base_uri": "https://localhost:8080/",
          "height": 182
        },
        "id": "mgQzSS5z0__1",
        "outputId": "b5943c6d-c6ec-4e1c-8faa-173fe64f602d"
      },
      "execution_count": 46,
      "outputs": [
        {
          "output_type": "stream",
          "name": "stdout",
          "text": [
            " * sqlite:///bookstore.db\n",
            "Done.\n"
          ]
        },
        {
          "output_type": "execute_result",
          "data": {
            "text/plain": [
              "[('Book Title A', 7),\n",
              " ('Book Title B', 9),\n",
              " ('Book Title C', 11),\n",
              " ('Book Title D', 13),\n",
              " ('Book Title E', 15)]"
            ],
            "text/html": [
              "<table>\n",
              "    <thead>\n",
              "        <tr>\n",
              "            <th>Title</th>\n",
              "            <th>Total_Sold</th>\n",
              "        </tr>\n",
              "    </thead>\n",
              "    <tbody>\n",
              "        <tr>\n",
              "            <td>Book Title A</td>\n",
              "            <td>7</td>\n",
              "        </tr>\n",
              "        <tr>\n",
              "            <td>Book Title B</td>\n",
              "            <td>9</td>\n",
              "        </tr>\n",
              "        <tr>\n",
              "            <td>Book Title C</td>\n",
              "            <td>11</td>\n",
              "        </tr>\n",
              "        <tr>\n",
              "            <td>Book Title D</td>\n",
              "            <td>13</td>\n",
              "        </tr>\n",
              "        <tr>\n",
              "            <td>Book Title E</td>\n",
              "            <td>15</td>\n",
              "        </tr>\n",
              "    </tbody>\n",
              "</table>"
            ]
          },
          "metadata": {},
          "execution_count": 46
        }
      ]
    },
    {
      "cell_type": "code",
      "source": [
        "%%sql\n",
        "-- Insert few more supply orders for next aggregation practice\n",
        "INSERT INTO SupplyOrders (SupplierID, BookID, Quantity, OrderDate) VALUES\n",
        "(1, 1, 60, '2024-01-10'),\n",
        "(2, 2, 70, '2024-01-20'),\n",
        "(3, 3, 80, '2024-01-30'),\n",
        "(4, 4, 90, '2024-02-10'),\n",
        "(5, 5, 100, '2024-02-20');"
      ],
      "metadata": {
        "colab": {
          "base_uri": "https://localhost:8080/"
        },
        "id": "qdhK4VUP95PK",
        "outputId": "228c1e86-2f15-46e4-9b2c-f1820ca61358"
      },
      "execution_count": 51,
      "outputs": [
        {
          "output_type": "stream",
          "name": "stdout",
          "text": [
            " * sqlite:///bookstore.db\n",
            "5 rows affected.\n"
          ]
        },
        {
          "output_type": "execute_result",
          "data": {
            "text/plain": [
              "[]"
            ]
          },
          "metadata": {},
          "execution_count": 51
        }
      ]
    },
    {
      "cell_type": "code",
      "source": [
        "%%sql\n",
        "-- Count the number of books supplied by each supplier\n",
        "SELECT Suppliers.Name, SUM(SupplyOrders.Quantity) AS Number_of_Books_Supplied\n",
        "FROM SupplyOrders\n",
        "JOIN Suppliers ON SupplyOrders.SupplierID = Suppliers.SupplierID\n",
        "GROUP BY Suppliers.SupplierID;"
      ],
      "metadata": {
        "colab": {
          "base_uri": "https://localhost:8080/",
          "height": 182
        },
        "id": "i01W66D37NbJ",
        "outputId": "085c968a-6894-4dfe-8ed3-01025b723ea3"
      },
      "execution_count": 52,
      "outputs": [
        {
          "output_type": "stream",
          "name": "stdout",
          "text": [
            " * sqlite:///bookstore.db\n",
            "Done.\n"
          ]
        },
        {
          "output_type": "execute_result",
          "data": {
            "text/plain": [
              "[('Supplier A', 70),\n",
              " ('Supplier B', 90),\n",
              " ('Supplier C', 110),\n",
              " ('Supplier D', 130),\n",
              " ('Supplier E', 150)]"
            ],
            "text/html": [
              "<table>\n",
              "    <thead>\n",
              "        <tr>\n",
              "            <th>Name</th>\n",
              "            <th>Number_of_Books_Supplied</th>\n",
              "        </tr>\n",
              "    </thead>\n",
              "    <tbody>\n",
              "        <tr>\n",
              "            <td>Supplier A</td>\n",
              "            <td>70</td>\n",
              "        </tr>\n",
              "        <tr>\n",
              "            <td>Supplier B</td>\n",
              "            <td>90</td>\n",
              "        </tr>\n",
              "        <tr>\n",
              "            <td>Supplier C</td>\n",
              "            <td>110</td>\n",
              "        </tr>\n",
              "        <tr>\n",
              "            <td>Supplier D</td>\n",
              "            <td>130</td>\n",
              "        </tr>\n",
              "        <tr>\n",
              "            <td>Supplier E</td>\n",
              "            <td>150</td>\n",
              "        </tr>\n",
              "    </tbody>\n",
              "</table>"
            ]
          },
          "metadata": {},
          "execution_count": 52
        }
      ]
    },
    {
      "cell_type": "code",
      "source": [
        "%%sql\n",
        "-- Insert few more book reviews for next aggregation practice\n",
        "INSERT INTO BookReviews (BookID, CustomerID, Rating, ReviewText, ReviewDate) VALUES\n",
        "(1, 1, 2, 'Excellent!', '2024-04-01'),\n",
        "(2, 2, 4, 'Good.', '2024-04-02'),\n",
        "(3, 3, 1, 'Not bad.', '2024-04-03'),\n",
        "(4, 4, 5, 'Below average.', '2024-04-04'),\n",
        "(5, 5, 3, 'Bad.', '2024-04-05');"
      ],
      "metadata": {
        "colab": {
          "base_uri": "https://localhost:8080/"
        },
        "id": "PX03yoXH-ItZ",
        "outputId": "90f17f22-d403-4f37-c94c-14172f588b4c"
      },
      "execution_count": 53,
      "outputs": [
        {
          "output_type": "stream",
          "name": "stdout",
          "text": [
            " * sqlite:///bookstore.db\n",
            "5 rows affected.\n"
          ]
        },
        {
          "output_type": "execute_result",
          "data": {
            "text/plain": [
              "[]"
            ]
          },
          "metadata": {},
          "execution_count": 53
        }
      ]
    },
    {
      "cell_type": "code",
      "source": [
        "%%sql\n",
        "-- Average rating for each book\n",
        "SELECT Books.Title, AVG(BookReviews.Rating) AS Average_Rating\n",
        "FROM BookReviews\n",
        "JOIN Books ON BookReviews.BookID = Books.BookID\n",
        "GROUP BY Books.BookID;"
      ],
      "metadata": {
        "colab": {
          "base_uri": "https://localhost:8080/",
          "height": 182
        },
        "id": "luCJQ-zB9clx",
        "outputId": "ec6b2e43-870b-42cc-c40f-d180f3b6f1ac"
      },
      "execution_count": 54,
      "outputs": [
        {
          "output_type": "stream",
          "name": "stdout",
          "text": [
            " * sqlite:///bookstore.db\n",
            "Done.\n"
          ]
        },
        {
          "output_type": "execute_result",
          "data": {
            "text/plain": [
              "[('Book Title A', 3.5),\n",
              " ('Book Title B', 4.0),\n",
              " ('Book Title C', 2.0),\n",
              " ('Book Title D', 3.5),\n",
              " ('Book Title E', 2.0)]"
            ],
            "text/html": [
              "<table>\n",
              "    <thead>\n",
              "        <tr>\n",
              "            <th>Title</th>\n",
              "            <th>Average_Rating</th>\n",
              "        </tr>\n",
              "    </thead>\n",
              "    <tbody>\n",
              "        <tr>\n",
              "            <td>Book Title A</td>\n",
              "            <td>3.5</td>\n",
              "        </tr>\n",
              "        <tr>\n",
              "            <td>Book Title B</td>\n",
              "            <td>4.0</td>\n",
              "        </tr>\n",
              "        <tr>\n",
              "            <td>Book Title C</td>\n",
              "            <td>2.0</td>\n",
              "        </tr>\n",
              "        <tr>\n",
              "            <td>Book Title D</td>\n",
              "            <td>3.5</td>\n",
              "        </tr>\n",
              "        <tr>\n",
              "            <td>Book Title E</td>\n",
              "            <td>2.0</td>\n",
              "        </tr>\n",
              "    </tbody>\n",
              "</table>"
            ]
          },
          "metadata": {},
          "execution_count": 54
        }
      ]
    },
    {
      "cell_type": "code",
      "source": [
        "%%sql\n",
        "-- Count number of books with high rating (>=4), medium rating (2-3), and low rating (1)\n",
        "SELECT\n",
        "  SUM(CASE WHEN Rating >= 4 THEN 1 ELSE 0 END) AS High_Rating_Count,\n",
        "  SUM(CASE WHEN Rating BETWEEN 2 AND 3 THEN 1 ELSE 0 END) AS Medium_Rating_Count,\n",
        "  SUM(CASE WHEN Rating = 1 THEN 1 ELSE 0 END) AS Low_Rating_Count\n",
        "FROM BookReviews;"
      ],
      "metadata": {
        "colab": {
          "base_uri": "https://localhost:8080/",
          "height": 96
        },
        "id": "GpXRjYON_E0N",
        "outputId": "27eca08b-edc6-4819-d3ae-5644a2519486"
      },
      "execution_count": 57,
      "outputs": [
        {
          "output_type": "stream",
          "name": "stdout",
          "text": [
            " * sqlite:///bookstore.db\n",
            "Done.\n"
          ]
        },
        {
          "output_type": "execute_result",
          "data": {
            "text/plain": [
              "[(4, 4, 2)]"
            ],
            "text/html": [
              "<table>\n",
              "    <thead>\n",
              "        <tr>\n",
              "            <th>High_Rating_Count</th>\n",
              "            <th>Medium_Rating_Count</th>\n",
              "            <th>Low_Rating_Count</th>\n",
              "        </tr>\n",
              "    </thead>\n",
              "    <tbody>\n",
              "        <tr>\n",
              "            <td>4</td>\n",
              "            <td>4</td>\n",
              "            <td>2</td>\n",
              "        </tr>\n",
              "    </tbody>\n",
              "</table>"
            ]
          },
          "metadata": {},
          "execution_count": 57
        }
      ]
    },
    {
      "cell_type": "code",
      "source": [],
      "metadata": {
        "id": "dpE3a3jk-Wsz"
      },
      "execution_count": null,
      "outputs": []
    }
  ]
}